{
 "cells": [
  {
   "cell_type": "code",
   "execution_count": 14,
   "metadata": {},
   "outputs": [],
   "source": [
    "#required address\n",
    "searchLoaction1 =  (27.626569, 85.522422)\n",
    "searchLoaction2 =  (27.62803330453447, 85.52117611453622)\n",
    "\n",
    "#list of landmarks coordinates\n",
    "landMarkCoordinate1 = [  (27.62744026933375, 85.52198217868424),( 27.627078153845098, 85.52487475762831), (27.62496801208418, 85.52323863173712),(27.6275458270099, 85.5200753089559)]\n",
    "landMarkCoordinate2 = [ (27.628430808207938, 85.52150718366812),(27.62818539884954, 85.52095966208299), (27.62744026933375, 85.52198217868424),(27.627554493512733, 85.52056196392822)]\n",
    "\n",
    "#list of landmarks name\n",
    "LandMarker1=[\"Akshyardham\",\"FOWEP\",\"Punyamata\",\"Axios\"]\n",
    "LandMarker2=[\"Gyanjyoti\",\"Sarbashree\",\"Akshyardham\",\"BNPJagritiChurch\"]\n",
    "\n",
    "#input data\n",
    "searchLoaction =  searchLoaction2\n",
    "landMarkCoordinate =landMarkCoordinate2\n",
    "LandMarker=LandMarker2\n",
    "districtName=\"011\"\n",
    "cityName=\"BNP\""
   ]
  },
  {
   "cell_type": "markdown",
   "metadata": {},
   "source": [
    "### Vigenere Cipher for text encryption and decryption"
   ]
  },
  {
   "cell_type": "code",
   "execution_count": 15,
   "metadata": {},
   "outputs": [],
   "source": [
    "# def vigenere_cipher(text, key, decrypt=False):\n",
    "def vigenere_cipher(text, key, decrypt=False):\n",
    "    key_length = len(key)\n",
    "    result = []\n",
    "\n",
    "    for i, char in enumerate(text):\n",
    "        key_char = key[i % key_length]\n",
    "\n",
    "        # Define your custom character set\n",
    "        character_set = \"ABCDEFGHIJKLMNOPQRSTUVWXYZabcdefghijklmnopqrstuvwxyz0123456789+/\"\n",
    "\n",
    "        if char in character_set:\n",
    "            shift = character_set.index(key_char) if key_char in character_set else 0\n",
    "\n",
    "            if decrypt:\n",
    "                shift = -shift\n",
    "\n",
    "            shifted_char = character_set[(character_set.index(char) + shift) % len(character_set)]\n",
    "        else:\n",
    "            shifted_char = char\n",
    "\n",
    "        result.append(shifted_char)\n",
    "\n",
    "    return ''.join(result)\n"
   ]
  },
  {
   "cell_type": "markdown",
   "metadata": {},
   "source": [
    "### Function to convert a decimal value to base64"
   ]
  },
  {
   "cell_type": "code",
   "execution_count": 16,
   "metadata": {},
   "outputs": [],
   "source": [
    "def base10_to_base64(decimal_value):\n",
    "    if decimal_value == 0:\n",
    "        return \"0\"\n",
    "\n",
    "    base64_digits = []\n",
    "    base64_characters = \"ABCDEFGHIJKLMNOPQRSTUVWXYZabcdefghijklmnopqrstuvwxyz0123456789+/\"\n",
    "\n",
    "    while decimal_value > 0:\n",
    "        remainder = decimal_value % 64\n",
    "        base64_digits.append(base64_characters[remainder])\n",
    "        decimal_value //= 64\n",
    "\n",
    "    base64_digits.reverse()\n",
    "    return \"\".join(base64_digits)"
   ]
  },
  {
   "cell_type": "markdown",
   "metadata": {},
   "source": [
    "### Function to convert a base64 value to decimal"
   ]
  },
  {
   "cell_type": "code",
   "execution_count": 17,
   "metadata": {},
   "outputs": [],
   "source": [
    "def base64_to_base10(base64_value):\n",
    "    base64_characters = \"ABCDEFGHIJKLMNOPQRSTUVWXYZabcdefghijklmnopqrstuvwxyz0123456789+/\"\n",
    "    base64_map = {char: index for index, char in enumerate(base64_characters)}\n",
    "\n",
    "    base64_digits = list(base64_value)\n",
    "    base64_digits.reverse()\n",
    "\n",
    "    decimal_value = 0\n",
    "    multiplier = 1\n",
    "\n",
    "    for digit in base64_digits:\n",
    "        decimal_value += base64_map[digit] * multiplier\n",
    "        multiplier *= 64\n",
    "\n",
    "    return decimal_value"
   ]
  },
  {
   "cell_type": "markdown",
   "metadata": {},
   "source": [
    "### Function to calculate the Haversine distance between two sets of coordinates"
   ]
  },
  {
   "cell_type": "code",
   "execution_count": 18,
   "metadata": {},
   "outputs": [],
   "source": [
    "import math\n",
    "def haversine_distance(lat1, lon1, lat2, lon2):\n",
    "    R = 6371.0  # Earth's radius in kilometers\n",
    "    dlat = math.radians(lat2 - lat1)\n",
    "    dlon = math.radians(lon2 - lon1)\n",
    "    a = math.sin(dlat / 2) ** 2 + math.cos(math.radians(lat1)) * math.cos(math.radians(lat2)) * math.sin(dlon / 2) ** 2\n",
    "    c = 2 * math.atan2(math.sqrt(a), math.sqrt(1 - a))\n",
    "    distance = R * c\n",
    "    return distance * 1000  # Convert to meters"
   ]
  },
  {
   "cell_type": "markdown",
   "metadata": {},
   "source": [
    "### Finding distance between each and every point from searched location"
   ]
  },
  {
   "cell_type": "code",
   "execution_count": 19,
   "metadata": {},
   "outputs": [
    {
     "name": "stdout",
     "output_type": "stream",
     "text": [
      "Distance between the landMarkCoordinate (27.628430808207938, 85.52150718366812): 54.93 m\n",
      "Distance between the landMarkCoordinate (27.62818539884954, 85.52095966208299): 27.22 m\n",
      "Distance between the landMarkCoordinate (27.62744026933375, 85.52198217868424): 103.22 m\n",
      "Distance between the landMarkCoordinate (27.627554493512733, 85.52056196392822): 80.59 m\n"
     ]
    }
   ],
   "source": [
    "distance = []  # Initialize an empty list\n",
    "\n",
    "# Calculate distances for each landMarkCoordiantr using a for loop\n",
    "for p in landMarkCoordinate:\n",
    "    distance.append(haversine_distance(p[0], p[1], searchLoaction[0], searchLoaction[1]))\n",
    "graphDistance=distance\n",
    "# Print distances\n",
    "for i, p in enumerate(landMarkCoordinate):\n",
    "    print(f\"Distance between the landMarkCoordinate {p}: {distance[i]:.2f} m\")"
   ]
  },
  {
   "cell_type": "markdown",
   "metadata": {},
   "source": [
    "### Find the smallest distance and its index"
   ]
  },
  {
   "cell_type": "code",
   "execution_count": 20,
   "metadata": {},
   "outputs": [
    {
     "name": "stdout",
     "output_type": "stream",
     "text": [
      "The smallest distance is 27.22 m, and its index is 1.\n"
     ]
    }
   ],
   "source": [
    "smallest_distance = min(distance)\n",
    "index_of_smallest_distance = distance.index(smallest_distance)\n",
    "smindex=index_of_smallest_distance\n",
    "print(f\"The smallest distance is {smallest_distance:.2f} m, and its index is {index_of_smallest_distance}.\")\n"
   ]
  },
  {
   "cell_type": "markdown",
   "metadata": {},
   "source": [
    "### Findind the angle in clockwise direction such that east is 0 degree"
   ]
  },
  {
   "cell_type": "code",
   "execution_count": 21,
   "metadata": {},
   "outputs": [
    {
     "name": "stdout",
     "output_type": "stream",
     "text": [
      "Distance between the landMarkCoordinates: 27.22 m\n",
      "Angle between the landMarkCoordinates (east of point 0): 35.09 degrees\n"
     ]
    }
   ],
   "source": [
    "\n",
    "angle_radians = math.atan2(searchLoaction[1] - landMarkCoordinate[smindex][1], searchLoaction[0] - landMarkCoordinate[smindex][0])\n",
    "angle_degrees = math.degrees(angle_radians)\n",
    "\n",
    "# Ensure the angle is positive between 0 and 360 degrees\n",
    "angle_degrees = (angle_degrees + 270) % 360\n",
    "print(f\"Distance between the landMarkCoordinates: {distance[smindex]:.2f} m\")\n",
    "print(f\"Angle between the landMarkCoordinates (east of point 0): {angle_degrees:.2f} degrees\")"
   ]
  },
  {
   "cell_type": "markdown",
   "metadata": {},
   "source": [
    "### Encrypting the distance and degree between search loactions and nearby landmark"
   ]
  },
  {
   "cell_type": "code",
   "execution_count": 22,
   "metadata": {},
   "outputs": [
    {
     "name": "stdout",
     "output_type": "stream",
     "text": [
      "f\n",
      "Ji\n"
     ]
    }
   ],
   "source": [
    "key = \"EEMAYAS\"\n",
    "distancesm=distance[smindex]\n",
    "encodedDistance64=base10_to_base64(int(distancesm))\n",
    "encodedDistance = vigenere_cipher(encodedDistance64, key)\n",
    "\n",
    "encodedDegree64 = base10_to_base64(int(angle_degrees*10))\n",
    "encodedDegree = vigenere_cipher(encodedDegree64, key)\n",
    "# print(distancesm)\n",
    "# print(encodedDistance64)\n",
    "print(encodedDistance)\n",
    "# print(angle_degrees)\n",
    "# print(encodedDegree64)\n",
    "print(encodedDegree)\n"
   ]
  },
  {
   "cell_type": "markdown",
   "metadata": {},
   "source": [
    "### Combining the Rest of the data of the location"
   ]
  },
  {
   "cell_type": "code",
   "execution_count": 23,
   "metadata": {},
   "outputs": [
    {
     "name": "stdout",
     "output_type": "stream",
     "text": [
      "011-BNP-Sarbashree-f-Ji\n"
     ]
    }
   ],
   "source": [
    "# print(f\"{districtName}-{cityName}-{LandMarker[smindex]}\")\n",
    "print(districtName +'-'+cityName+'-'+LandMarker[smindex]+'-'+encodedDistance+'-'+encodedDegree)"
   ]
  },
  {
   "cell_type": "markdown",
   "metadata": {},
   "source": [
    "### For decoding purpose"
   ]
  },
  {
   "cell_type": "code",
   "execution_count": 24,
   "metadata": {},
   "outputs": [
    {
     "name": "stdout",
     "output_type": "stream",
     "text": [
      "27\n",
      "35.0\n"
     ]
    }
   ],
   "source": [
    "decodedDistancePoly=vigenere_cipher(encodedDistance, key, decrypt=True)\n",
    "decodedDistance=base64_to_base10(decodedDistancePoly)\n",
    "\n",
    "decodedDegreePoly =  vigenere_cipher(encodedDegree, key, decrypt=True)\n",
    "decodedDegree = base64_to_base10(decodedDegreePoly )\n",
    "\n",
    "# print(decodedDistancePoly)\n",
    "print(decodedDistance)\n",
    "# print(decodedDegreePoly)\n",
    "print(decodedDegree/10)"
   ]
  },
  {
   "cell_type": "markdown",
   "metadata": {},
   "source": [
    "# Map Pot"
   ]
  },
  {
   "cell_type": "code",
   "execution_count": 25,
   "metadata": {},
   "outputs": [],
   "source": [
    "import folium\n",
    "from folium.plugins import MarkerCluster\n",
    "\n",
    "center_lat, center_lon = searchLoaction[0],searchLoaction[1]\n",
    "\n",
    "# Create a map object\n",
    "m = folium.Map(location=[center_lat, center_lon], zoom_start=20)\n",
    "\n",
    "# Assuming 'point' is a list of coordinates, e.g., [(lat1, lon1), (lat2, lon2), ...]\n",
    "locations = []\n",
    "\n",
    "# Create a list of coordinates from the 'locations' list\n",
    "coordinates = [(location[\"lat\"], location[\"lon\"]) for location in locations]\n",
    "for i in range(len(landMarkCoordinate)):\n",
    "    location_data = {\n",
    "        \"lat\": landMarkCoordinate[i][0],\n",
    "        \"lon\": landMarkCoordinate[i][1],\n",
    "        \"name\": LandMarker[i]  # Assign a name based on the index\n",
    "    }\n",
    "    locations.append(location_data)\n",
    "\n",
    "# Add markers and labels along the PolyLine\n",
    "marker_cluster = MarkerCluster().add_to(m)  # Create a marker cluster layer\n",
    "# Add markers and labels along the PolyLine\n",
    "for location in locations:\n",
    "    folium.Marker(\n",
    "        location=[location[\"lat\"], location[\"lon\"]],\n",
    "        icon=None,\n",
    "        tooltip=location[\"name\"],  # Display the location name as a tooltip\n",
    "    ).add_to(m) \n",
    "marker_cluster = MarkerCluster().add_to(m)  # Create a marker cluster layer\n",
    "custom_icon = folium.Icon(\n",
    "    icon=\"search\",  # You can use other FontAwesome icons\n",
    "    icon_color=\"blue\",  # Customize the icon color\n",
    "    icon_size=(30, 30),  # Customize the icon size\n",
    ")\n",
    "folium.Marker(\n",
    "    location=[searchLoaction[0], searchLoaction[1]],\n",
    "    popup=\"Search Location\",\n",
    "    icon=custom_icon,  # Assign the custom icon to the marker\n",
    "    ).add_to(marker_cluster)\n",
    "\n",
    "\n",
    "for i in range(0, len(landMarkCoordinate)):\n",
    "    line = folium.PolyLine(\n",
    "        locations=[\n",
    "            [searchLoaction[0], searchLoaction[1]],\n",
    "            [landMarkCoordinate[i][0], landMarkCoordinate[i][1]]\n",
    "        ],\n",
    "        color=\"blue\",  # Customize the line color\n",
    "        weight=2,       # Customize the line weight\n",
    "        tooltip=graphDistance[i],\n",
    "    )\n",
    "    label_html = f'<h4> {graphDistance[i]}</h4>'\n",
    "    label = folium.Marker(\n",
    "        location=[(searchLoaction[0] + locations[i][\"lat\"]) / 2, (searchLoaction[1] + locations[i][\"lon\"]) / 2],\n",
    "        icon=folium.DivIcon(html=label_html),\n",
    "        draggable=False,\n",
    "    )\n",
    "    label.add_to(m)  # Add the label to the map\n",
    "    line.add_to(m)   # Add the line to the map\n",
    "\n",
    "# Display the map\n",
    "m.save(\"map_Result2.html\")\n"
   ]
  },
  {
   "cell_type": "code",
   "execution_count": null,
   "metadata": {},
   "outputs": [],
   "source": []
  }
 ],
 "metadata": {
  "kernelspec": {
   "display_name": "env_name",
   "language": "python",
   "name": "python3"
  },
  "language_info": {
   "codemirror_mode": {
    "name": "ipython",
    "version": 3
   },
   "file_extension": ".py",
   "mimetype": "text/x-python",
   "name": "python",
   "nbconvert_exporter": "python",
   "pygments_lexer": "ipython3",
   "version": "3.11.4"
  },
  "orig_nbformat": 4
 },
 "nbformat": 4,
 "nbformat_minor": 2
}
