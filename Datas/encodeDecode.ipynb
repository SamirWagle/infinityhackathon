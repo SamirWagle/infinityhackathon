{
 "cells": [
  {
   "cell_type": "markdown",
   "metadata": {},
   "source": [
    "# Main Code"
   ]
  },
  {
   "cell_type": "code",
   "execution_count": 7,
   "metadata": {},
   "outputs": [],
   "source": [
    "# Define the coordinates of point 0 (east) and point 1\n",
    "point0 = ( 27.63007,85.52020) # Replace with the actual coordinates of point 0 main points\n",
    "point1 =  (27.626569, 85.522422) # Replace with the actual coordinates of point 1"
   ]
  },
  {
   "cell_type": "code",
   "execution_count": 8,
   "metadata": {},
   "outputs": [],
   "source": [
    "def vigenere_cipher(text, key, decrypt=False):\n",
    "    key_length = len(key)\n",
    "    result = []\n",
    "\n",
    "    for i, char in enumerate(text):\n",
    "        key_char = key[i % key_length]\n",
    "        shift = ord(key_char) - ord('A') if key_char.isalpha() else 0\n",
    "\n",
    "        if decrypt:\n",
    "            shift = -shift\n",
    "\n",
    "        if char.isalpha():\n",
    "            shifted_char = chr(((ord(char) - ord('A') + shift) % 26) + ord('A'))\n",
    "        else:\n",
    "            shifted_char = char\n",
    "\n",
    "        result.append(shifted_char)\n",
    "\n",
    "    return ''.join(result)"
   ]
  },
  {
   "cell_type": "code",
   "execution_count": 9,
   "metadata": {},
   "outputs": [],
   "source": [
    "def base10_to_base64(decimal_value):\n",
    "    if decimal_value == 0:\n",
    "        return \"0\"\n",
    "\n",
    "    base64_digits = []\n",
    "    base64_characters = \"ABCDEFGHIJKLMNOPQRSTUVWXYZabcdefghijklmnopqrstuvwxyz0123456789+/\"\n",
    "\n",
    "    while decimal_value > 0:\n",
    "        remainder = decimal_value % 64\n",
    "        base64_digits.append(base64_characters[remainder])\n",
    "        decimal_value //= 64\n",
    "\n",
    "    base64_digits.reverse()\n",
    "    return \"\".join(base64_digits)"
   ]
  },
  {
   "cell_type": "code",
   "execution_count": 10,
   "metadata": {},
   "outputs": [],
   "source": [
    "def base64_to_base10(base64_value):\n",
    "    base64_characters = \"ABCDEFGHIJKLMNOPQRSTUVWXYZabcdefghijklmnopqrstuvwxyz0123456789+/\"\n",
    "    base64_map = {char: index for index, char in enumerate(base64_characters)}\n",
    "\n",
    "    base64_digits = list(base64_value)\n",
    "    base64_digits.reverse()\n",
    "\n",
    "    decimal_value = 0\n",
    "    multiplier = 1\n",
    "\n",
    "    for digit in base64_digits:\n",
    "        decimal_value += base64_map[digit] * multiplier\n",
    "        multiplier *= 64\n",
    "\n",
    "    return decimal_value\n"
   ]
  },
  {
   "cell_type": "code",
   "execution_count": 11,
   "metadata": {},
   "outputs": [
    {
     "name": "stdout",
     "output_type": "stream",
     "text": [
      "Distance between the points: 446.6179340311232\n",
      "Angle between the points (east of point 0): 57.597691901733015 degrees\n"
     ]
    }
   ],
   "source": [
    "import math\n",
    "def haversine_distance(lat1, lon1, lat2, lon2):\n",
    "    R = 6371.0  # Earth's radius in kilometers\n",
    "    dlat = math.radians(lat2 - lat1)\n",
    "    dlon = math.radians(lon2 - lon1)\n",
    "    a = math.sin(dlat / 2) ** 2 + math.cos(math.radians(lat1)) * math.cos(math.radians(lat2)) * math.sin(dlon / 2) ** 2\n",
    "    c = 2 * math.atan2(math.sqrt(a), math.sqrt(1 - a))\n",
    "    distance = R * c\n",
    "    return distance*1000\n",
    "# # Define the coordinates of point 0 (east) and point 1\n",
    "# point0 = ( 27.63007,85.52020) # Replace with the actual coordinates of point 0 main points\n",
    "# point1 =  (27.626569, 85.522422) # Replace with the actual coordinates of point 1\n",
    "\n",
    "# Calculate the distance between the two points using the Euclidean distance formula\n",
    "distance = haversine_distance(point0[0], point0[1], point1[0], point1[1])\n",
    "\n",
    "# Calculate the angle between the points with respect to the east direction (0 degrees)\n",
    "angle_radians = math.atan2(point1[1] - point0[1], point1[0] - point0[0])\n",
    "angle_degrees = math.degrees(angle_radians)\n",
    "\n",
    "# Ensure the angle is positive between 0 and 360 degrees\n",
    "angle_degrees = (angle_degrees + 270) % 360\n",
    "\n",
    "print(f\"Distance between the points: {distance}\")\n",
    "print(f\"Angle between the points (east of point 0): {angle_degrees} degrees\")"
   ]
  },
  {
   "cell_type": "markdown",
   "metadata": {},
   "source": [
    "# Encode Data"
   ]
  },
  {
   "cell_type": "code",
   "execution_count": 12,
   "metadata": {},
   "outputs": [
    {
     "name": "stdout",
     "output_type": "stream",
     "text": [
      "M/\n",
      "K+\n"
     ]
    }
   ],
   "source": [
    "key = \"EEMAYAS\"\n",
    "encodedDistance64=base10_to_base64(int(distance))\n",
    "encodedDistance = vigenere_cipher(encodedDistance64, key)\n",
    "\n",
    "encodedDegree64 = base10_to_base64(int(angle_degrees*10))\n",
    "encodedDegree = vigenere_cipher(encodedDegree64, key)\n",
    "print(encodedDegree)\n",
    "print(encodedDistance)"
   ]
  },
  {
   "cell_type": "markdown",
   "metadata": {},
   "source": [
    "# Decoded Data"
   ]
  },
  {
   "cell_type": "code",
   "execution_count": 13,
   "metadata": {},
   "outputs": [
    {
     "name": "stdout",
     "output_type": "stream",
     "text": [
      "446\n",
      "57.5\n"
     ]
    }
   ],
   "source": [
    "decodedDistancePoly=vigenere_cipher(encodedDistance, key, decrypt=True)\n",
    "decodedDistance=base64_to_base10(decodedDistancePoly)\n",
    "\n",
    "decodedDegreePoly =  vigenere_cipher(encodedDegree, key, decrypt=True)\n",
    "decodedDegree = base64_to_base10(decodedDegreePoly )\n",
    "\n",
    "print(decodedDistance)\n",
    "print(decodedDegree/10)\n"
   ]
  },
  {
   "cell_type": "code",
   "execution_count": null,
   "metadata": {},
   "outputs": [],
   "source": []
  }
 ],
 "metadata": {
  "kernelspec": {
   "display_name": "env_name",
   "language": "python",
   "name": "python3"
  },
  "language_info": {
   "codemirror_mode": {
    "name": "ipython",
    "version": 3
   },
   "file_extension": ".py",
   "mimetype": "text/x-python",
   "name": "python",
   "nbconvert_exporter": "python",
   "pygments_lexer": "ipython3",
   "version": "3.11.4"
  },
  "orig_nbformat": 4
 },
 "nbformat": 4,
 "nbformat_minor": 2
}
