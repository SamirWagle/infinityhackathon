{
 "cells": [
  {
   "cell_type": "code",
   "execution_count": 101,
   "metadata": {},
   "outputs": [],
   "source": [
    "#required address\n",
    "point1 =  (27.626569, 85.522422)\n",
    "#list of landmarks\n",
    "point = [ (20.000002, 80),( 27.63007,85.52020), (20.000001, 80)]"
   ]
  },
  {
   "cell_type": "code",
   "execution_count": 102,
   "metadata": {},
   "outputs": [],
   "source": [
    "# Vigenere Cipher for text encryption and decryption\n",
    "def vigenere_cipher(text, key, decrypt=False):\n",
    "    key_length = len(key)\n",
    "    result = []\n",
    "\n",
    "    for i, char in enumerate(text):\n",
    "        key_char = key[i % key_length]\n",
    "        shift = ord(key_char) - ord('A') if key_char.isalpha() else 0\n",
    "\n",
    "        if decrypt:\n",
    "            shift = -shift\n",
    "\n",
    "        if char.isalpha():\n",
    "            shifted_char = chr(((ord(char) - ord('A') + shift) % 26) + ord('A'))\n",
    "        else:\n",
    "            shifted_char = char\n",
    "\n",
    "        result.append(shifted_char)\n",
    "\n",
    "    return ''.join(result)\n",
    "\n",
    "# Function to convert a decimal value to base64\n",
    "def base10_to_base64(decimal_value):\n",
    "    if decimal_value == 0:\n",
    "        return \"0\"\n",
    "\n",
    "    base64_digits = []\n",
    "    base64_characters = \"ABCDEFGHIJKLMNOPQRSTUVWXYZabcdefghijklmnopqrstuvwxyz0123456789+/\"\n",
    "\n",
    "    while decimal_value > 0:\n",
    "        remainder = decimal_value % 64\n",
    "        base64_digits.append(base64_characters[remainder])\n",
    "        decimal_value //= 64\n",
    "\n",
    "    base64_digits.reverse()\n",
    "    return \"\".join(base64_digits)\n",
    "\n",
    "# Function to convert a base64 value to decimal\n",
    "def base64_to_base10(base64_value):\n",
    "    base64_characters = \"ABCDEFGHIJKLMNOPQRSTUVWXYZabcdefghijklmnopqrstuvwxyz0123456789+/\"\n",
    "    base64_map = {char: index for index, char in enumerate(base64_characters)}\n",
    "\n",
    "    base64_digits = list(base64_value)\n",
    "    base64_digits.reverse()\n",
    "\n",
    "    decimal_value = 0\n",
    "    multiplier = 1\n",
    "\n",
    "    for digit in base64_digits:\n",
    "        decimal_value += base64_map[digit] * multiplier\n",
    "        multiplier *= 64\n",
    "\n",
    "    return decimal_value\n",
    "\n",
    "# Function to calculate the Haversine distance between two sets of coordinates\n",
    "import math\n",
    "def haversine_distance(lat1, lon1, lat2, lon2):\n",
    "    R = 6371.0  # Earth's radius in kilometers\n",
    "    dlat = math.radians(lat2 - lat1)\n",
    "    dlon = math.radians(lon2 - lon1)\n",
    "    a = math.sin(dlat / 2) ** 2 + math.cos(math.radians(lat1)) * math.cos(math.radians(lat2)) * math.sin(dlon / 2) ** 2\n",
    "    c = 2 * math.atan2(math.sqrt(a), math.sqrt(1 - a))\n",
    "    distance = R * c\n",
    "    return distance * 1000  # Convert to meters\n"
   ]
  },
  {
   "cell_type": "code",
   "execution_count": 103,
   "metadata": {},
   "outputs": [
    {
     "name": "stdout",
     "output_type": "stream",
     "text": [
      "Distance between the points (20.000002, 80): 1016853.33 m\n",
      "Distance between the points (27.63007, 85.5202): 446.62 m\n",
      "Distance between the points (20.000001, 80): 1016853.43 m\n"
     ]
    }
   ],
   "source": [
    "distance = []  # Initialize an empty list\n",
    "\n",
    "# Calculate distances for each point using a for loop\n",
    "for p in point:\n",
    "    distance.append(haversine_distance(p[0], p[1], point1[0], point1[1]))\n",
    "\n",
    "# Print distances\n",
    "for i, p in enumerate(point):\n",
    "    print(f\"Distance between the points {p}: {distance[i]:.2f} m\")"
   ]
  },
  {
   "cell_type": "code",
   "execution_count": 104,
   "metadata": {},
   "outputs": [
    {
     "name": "stdout",
     "output_type": "stream",
     "text": [
      "The smallest distance is 446.62 m, and its index is 1.\n"
     ]
    }
   ],
   "source": [
    "# Find the smallest distance and its index\n",
    "smallest_distance = min(distance)\n",
    "index_of_smallest_distance = distance.index(smallest_distance)\n",
    "smindex=index_of_smallest_distance\n",
    "print(f\"The smallest distance is {smallest_distance:.2f} m, and its index is {index_of_smallest_distance}.\")\n"
   ]
  },
  {
   "cell_type": "code",
   "execution_count": 105,
   "metadata": {},
   "outputs": [
    {
     "name": "stdout",
     "output_type": "stream",
     "text": [
      "Distance between the points: 446.62 m\n",
      "Angle between the points (east of point 0): 57.60 degrees\n"
     ]
    }
   ],
   "source": [
    "\n",
    "angle_radians = math.atan2(point1[1] - point[smindex][1], point1[0] - point[smindex][0])\n",
    "angle_degrees = math.degrees(angle_radians)\n",
    "\n",
    "# Ensure the angle is positive between 0 and 360 degrees\n",
    "angle_degrees = (angle_degrees + 270) % 360\n",
    "print(f\"Distance between the points: {distance[smindex]:.2f} m\")\n",
    "print(f\"Angle between the points (east of point 0): {angle_degrees:.2f} degrees\")"
   ]
  },
  {
   "cell_type": "code",
   "execution_count": 106,
   "metadata": {},
   "outputs": [
    {
     "name": "stdout",
     "output_type": "stream",
     "text": [
      "M/\n",
      "K+\n"
     ]
    }
   ],
   "source": [
    "key = \"EEMAYAS\"\n",
    "distance=distance[smindex]\n",
    "encodedDistance64=base10_to_base64(int(distance))\n",
    "encodedDistance = vigenere_cipher(encodedDistance64, key)\n",
    "\n",
    "encodedDegree64 = base10_to_base64(int(angle_degrees*10))\n",
    "encodedDegree = vigenere_cipher(encodedDegree64, key)\n",
    "print(encodedDegree)\n",
    "print(encodedDistance)"
   ]
  },
  {
   "cell_type": "code",
   "execution_count": 107,
   "metadata": {},
   "outputs": [
    {
     "name": "stdout",
     "output_type": "stream",
     "text": [
      "446\n",
      "57.5\n"
     ]
    }
   ],
   "source": [
    "decodedDistancePoly=vigenere_cipher(encodedDistance, key, decrypt=True)\n",
    "decodedDistance=base64_to_base10(decodedDistancePoly)\n",
    "\n",
    "decodedDegreePoly =  vigenere_cipher(encodedDegree, key, decrypt=True)\n",
    "decodedDegree = base64_to_base10(decodedDegreePoly )\n",
    "\n",
    "print(decodedDistance)\n",
    "print(decodedDegree/10)"
   ]
  },
  {
   "cell_type": "code",
   "execution_count": null,
   "metadata": {},
   "outputs": [],
   "source": []
  }
 ],
 "metadata": {
  "kernelspec": {
   "display_name": "env_name",
   "language": "python",
   "name": "python3"
  },
  "language_info": {
   "codemirror_mode": {
    "name": "ipython",
    "version": 3
   },
   "file_extension": ".py",
   "mimetype": "text/x-python",
   "name": "python",
   "nbconvert_exporter": "python",
   "pygments_lexer": "ipython3",
   "version": "3.11.4"
  },
  "orig_nbformat": 4
 },
 "nbformat": 4,
 "nbformat_minor": 2
}
